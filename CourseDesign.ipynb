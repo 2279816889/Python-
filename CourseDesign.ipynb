{
 "cells": [
  {
   "cell_type": "markdown",
   "metadata": {},
   "source": [
    "<center><h1>实习岗位状况的分析</h1></center> "
   ]
  },
  {
   "cell_type": "markdown",
   "metadata": {},
   "source": [
    "<h2>1.分析目标</h2>"
   ]
  },
  {
   "cell_type": "markdown",
   "metadata": {},
   "source": [
    "1.工作经验分析\n",
    "<br>\n",
    "2.学历分析\n",
    "<br>\n",
    "3.城市岗位需求量分析\n",
    "<br>\n",
    "4.薪资水平分析"
   ]
  },
  {
   "cell_type": "markdown",
   "metadata": {},
   "source": [
    "<h2>2.分析内容</h2>"
   ]
  },
  {
   "cell_type": "markdown",
   "metadata": {},
   "source": [
    "1.首先读取全部信息并去重;\n",
    "<br>\n",
    "2.然后提前对需要的信息并进行去空处理;\n",
    "<br>\n",
    "3.接着对提取的干净信息进行统计分析;\n",
    "<br>\n",
    "4.最后实现数据可视化。"
   ]
  },
  {
   "cell_type": "markdown",
   "metadata": {},
   "source": [
    "<h2>3.分析步骤</h2>"
   ]
  },
  {
   "cell_type": "markdown",
   "metadata": {},
   "source": [
    "<h3>3.1csv文件信息读取</h3>\n",
    "<br>\n",
    "读取文件信息并去重，保存成DataFrame格式;"
   ]
  },
  {
   "cell_type": "code",
   "execution_count": 49,
   "metadata": {},
   "outputs": [],
   "source": [
    "import numpy as np\n",
    "import pandas as pd\n",
    "import matplotlib.pyplot as plt\n",
    "import matplotlib as mpl\n",
    "%matplotlib inline\n",
    "import seaborn as sns\n",
    "from pyecharts.charts import Bar\n",
    "from pyecharts import options as opts\n",
    "#设置中文标签的显示\n",
    "plt.rcParams['font.sans-serif']=['SimHei']#设置显示中文字体"
   ]
  },
  {
   "cell_type": "code",
   "execution_count": 13,
   "metadata": {},
   "outputs": [
    {
     "data": {
      "text/html": [
       "<div>\n",
       "<style scoped>\n",
       "    .dataframe tbody tr th:only-of-type {\n",
       "        vertical-align: middle;\n",
       "    }\n",
       "\n",
       "    .dataframe tbody tr th {\n",
       "        vertical-align: top;\n",
       "    }\n",
       "\n",
       "    .dataframe thead th {\n",
       "        text-align: right;\n",
       "    }\n",
       "</style>\n",
       "<table border=\"1\" class=\"dataframe\">\n",
       "  <thead>\n",
       "    <tr style=\"text-align: right;\">\n",
       "      <th></th>\n",
       "      <th>city</th>\n",
       "      <th>cname</th>\n",
       "      <th>day</th>\n",
       "      <th>maxsal</th>\n",
       "      <th>minsal</th>\n",
       "      <th>name</th>\n",
       "    </tr>\n",
       "  </thead>\n",
       "  <tbody>\n",
       "    <tr>\n",
       "      <th>0</th>\n",
       "      <td>武汉</td>\n",
       "      <td>武汉安天</td>\n",
       "      <td>4</td>\n",
       "      <td>120</td>\n",
       "      <td>80</td>\n",
       "      <td>数据挖掘工程师</td>\n",
       "    </tr>\n",
       "    <tr>\n",
       "      <th>1</th>\n",
       "      <td>武汉</td>\n",
       "      <td>武汉安天</td>\n",
       "      <td>4</td>\n",
       "      <td>150</td>\n",
       "      <td>100</td>\n",
       "      <td>数据挖掘实习生</td>\n",
       "    </tr>\n",
       "    <tr>\n",
       "      <th>2</th>\n",
       "      <td>广州</td>\n",
       "      <td>网易游戏</td>\n",
       "      <td>4</td>\n",
       "      <td>200</td>\n",
       "      <td>100</td>\n",
       "      <td>语料数据标注实习生-广州</td>\n",
       "    </tr>\n",
       "    <tr>\n",
       "      <th>3</th>\n",
       "      <td>北京</td>\n",
       "      <td>中科院软件所</td>\n",
       "      <td>4</td>\n",
       "      <td>200</td>\n",
       "      <td>120</td>\n",
       "      <td>安全工程师</td>\n",
       "    </tr>\n",
       "    <tr>\n",
       "      <th>4</th>\n",
       "      <td>深圳</td>\n",
       "      <td>IDataAPI</td>\n",
       "      <td>5</td>\n",
       "      <td>200</td>\n",
       "      <td>100</td>\n",
       "      <td>自然语言处理（NLP）实习生</td>\n",
       "    </tr>\n",
       "    <tr>\n",
       "      <th>...</th>\n",
       "      <td>...</td>\n",
       "      <td>...</td>\n",
       "      <td>...</td>\n",
       "      <td>...</td>\n",
       "      <td>...</td>\n",
       "      <td>...</td>\n",
       "    </tr>\n",
       "    <tr>\n",
       "      <th>218</th>\n",
       "      <td>北京</td>\n",
       "      <td>妙计旅行</td>\n",
       "      <td>5</td>\n",
       "      <td>240</td>\n",
       "      <td>140</td>\n",
       "      <td>数据挖掘实习生</td>\n",
       "    </tr>\n",
       "    <tr>\n",
       "      <th>219</th>\n",
       "      <td>北京</td>\n",
       "      <td>百度</td>\n",
       "      <td>5</td>\n",
       "      <td>200</td>\n",
       "      <td>150</td>\n",
       "      <td>百度数据挖掘工程师实习生</td>\n",
       "    </tr>\n",
       "    <tr>\n",
       "      <th>220</th>\n",
       "      <td>北京</td>\n",
       "      <td>Baca</td>\n",
       "      <td>4</td>\n",
       "      <td>370</td>\n",
       "      <td>350</td>\n",
       "      <td>数据挖掘实习生</td>\n",
       "    </tr>\n",
       "    <tr>\n",
       "      <th>221</th>\n",
       "      <td>北京</td>\n",
       "      <td>汽车之家</td>\n",
       "      <td>4</td>\n",
       "      <td>180</td>\n",
       "      <td>140</td>\n",
       "      <td>数据分析实习生</td>\n",
       "    </tr>\n",
       "    <tr>\n",
       "      <th>222</th>\n",
       "      <td>北京</td>\n",
       "      <td>志诺维Genowis</td>\n",
       "      <td>4</td>\n",
       "      <td>300</td>\n",
       "      <td>150</td>\n",
       "      <td>算法工程师（文本挖掘）</td>\n",
       "    </tr>\n",
       "  </tbody>\n",
       "</table>\n",
       "<p>223 rows × 6 columns</p>\n",
       "</div>"
      ],
      "text/plain": [
       "    city       cname  day  maxsal  minsal            name\n",
       "0     武汉        武汉安天    4     120      80         数据挖掘工程师\n",
       "1     武汉        武汉安天    4     150     100         数据挖掘实习生\n",
       "2     广州        网易游戏    4     200     100    语料数据标注实习生-广州\n",
       "3     北京      中科院软件所    4     200     120           安全工程师\n",
       "4     深圳    IDataAPI    5     200     100  自然语言处理（NLP）实习生\n",
       "..   ...         ...  ...     ...     ...             ...\n",
       "218   北京        妙计旅行    5     240     140         数据挖掘实习生\n",
       "219   北京          百度    5     200     150    百度数据挖掘工程师实习生\n",
       "220   北京        Baca    4     370     350         数据挖掘实习生\n",
       "221   北京        汽车之家    4     180     140         数据分析实习生\n",
       "222   北京  志诺维Genowis    4     300     150     算法工程师（文本挖掘）\n",
       "\n",
       "[223 rows x 6 columns]"
      ]
     },
     "execution_count": 13,
     "metadata": {},
     "output_type": "execute_result"
    }
   ],
   "source": [
    "#读取job_list.csv中的有效字段的数据\n",
    "job_list_data = pd.read_csv('job_list.csv')[['city','cname','day','maxsal','minsal','name']]\n",
    "job_list_data"
   ]
  },
  {
   "cell_type": "code",
   "execution_count": 21,
   "metadata": {},
   "outputs": [
    {
     "data": {
      "text/html": [
       "<div>\n",
       "<style scoped>\n",
       "    .dataframe tbody tr th:only-of-type {\n",
       "        vertical-align: middle;\n",
       "    }\n",
       "\n",
       "    .dataframe tbody tr th {\n",
       "        vertical-align: top;\n",
       "    }\n",
       "\n",
       "    .dataframe thead th {\n",
       "        text-align: right;\n",
       "    }\n",
       "</style>\n",
       "<table border=\"1\" class=\"dataframe\">\n",
       "  <thead>\n",
       "    <tr style=\"text-align: right;\">\n",
       "      <th></th>\n",
       "      <th>city</th>\n",
       "      <th>cname</th>\n",
       "      <th>day</th>\n",
       "      <th>degree</th>\n",
       "      <th>iname</th>\n",
       "      <th>industry</th>\n",
       "      <th>maxsal</th>\n",
       "      <th>minsal</th>\n",
       "      <th>month</th>\n",
       "      <th>attraction</th>\n",
       "    </tr>\n",
       "  </thead>\n",
       "  <tbody>\n",
       "    <tr>\n",
       "      <th>0</th>\n",
       "      <td>武汉</td>\n",
       "      <td>武汉安天</td>\n",
       "      <td>4</td>\n",
       "      <td>本科</td>\n",
       "      <td>数据挖掘工程师</td>\n",
       "      <td>互联网</td>\n",
       "      <td>120</td>\n",
       "      <td>80</td>\n",
       "      <td>3</td>\n",
       "      <td>弹性工作 周末双休 咖啡下午茶</td>\n",
       "    </tr>\n",
       "    <tr>\n",
       "      <th>1</th>\n",
       "      <td>武汉</td>\n",
       "      <td>武汉安天</td>\n",
       "      <td>4</td>\n",
       "      <td>硕士</td>\n",
       "      <td>数据挖掘实习生</td>\n",
       "      <td>互联网</td>\n",
       "      <td>150</td>\n",
       "      <td>100</td>\n",
       "      <td>3</td>\n",
       "      <td>弹性工作制</td>\n",
       "    </tr>\n",
       "    <tr>\n",
       "      <th>2</th>\n",
       "      <td>广州</td>\n",
       "      <td>网易游戏</td>\n",
       "      <td>4</td>\n",
       "      <td>本科</td>\n",
       "      <td>语料数据标注实习生-广州</td>\n",
       "      <td>互联网</td>\n",
       "      <td>200</td>\n",
       "      <td>100</td>\n",
       "      <td>8</td>\n",
       "      <td>网络游戏 知名公司 导师制 免费三餐</td>\n",
       "    </tr>\n",
       "    <tr>\n",
       "      <th>3</th>\n",
       "      <td>北京</td>\n",
       "      <td>中科院软件所</td>\n",
       "      <td>4</td>\n",
       "      <td>硕士</td>\n",
       "      <td>安全工程师</td>\n",
       "      <td>计算机/互联网</td>\n",
       "      <td>200</td>\n",
       "      <td>120</td>\n",
       "      <td>6</td>\n",
       "      <td>舒适办公环境 领先技术水平 优秀团队 科研单位</td>\n",
       "    </tr>\n",
       "    <tr>\n",
       "      <th>4</th>\n",
       "      <td>深圳</td>\n",
       "      <td>IDataAPI</td>\n",
       "      <td>5</td>\n",
       "      <td>本科</td>\n",
       "      <td>自然语言处理（NLP）实习生</td>\n",
       "      <td>企业服务</td>\n",
       "      <td>200</td>\n",
       "      <td>100</td>\n",
       "      <td>6</td>\n",
       "      <td>你将获得持续不断的挑战与能力提升，并与志同道合的伙伴并肩作战</td>\n",
       "    </tr>\n",
       "    <tr>\n",
       "      <th>...</th>\n",
       "      <td>...</td>\n",
       "      <td>...</td>\n",
       "      <td>...</td>\n",
       "      <td>...</td>\n",
       "      <td>...</td>\n",
       "      <td>...</td>\n",
       "      <td>...</td>\n",
       "      <td>...</td>\n",
       "      <td>...</td>\n",
       "      <td>...</td>\n",
       "    </tr>\n",
       "    <tr>\n",
       "      <th>218</th>\n",
       "      <td>北京</td>\n",
       "      <td>妙计旅行</td>\n",
       "      <td>5</td>\n",
       "      <td>本科</td>\n",
       "      <td>数据挖掘实习生</td>\n",
       "      <td>在线旅游</td>\n",
       "      <td>240</td>\n",
       "      <td>140</td>\n",
       "      <td>6</td>\n",
       "      <td>大牛带队，成长迅速，包三餐</td>\n",
       "    </tr>\n",
       "    <tr>\n",
       "      <th>219</th>\n",
       "      <td>北京</td>\n",
       "      <td>百度</td>\n",
       "      <td>5</td>\n",
       "      <td>本科</td>\n",
       "      <td>百度数据挖掘工程师实习生</td>\n",
       "      <td>互联网</td>\n",
       "      <td>200</td>\n",
       "      <td>150</td>\n",
       "      <td>6</td>\n",
       "      <td>福利待遇好  有转正机会</td>\n",
       "    </tr>\n",
       "    <tr>\n",
       "      <th>220</th>\n",
       "      <td>北京</td>\n",
       "      <td>Baca</td>\n",
       "      <td>4</td>\n",
       "      <td>本科</td>\n",
       "      <td>数据挖掘实习生</td>\n",
       "      <td>互联网</td>\n",
       "      <td>370</td>\n",
       "      <td>350</td>\n",
       "      <td>3</td>\n",
       "      <td>出海项目,美金投资,团队大牛,学习成长</td>\n",
       "    </tr>\n",
       "    <tr>\n",
       "      <th>221</th>\n",
       "      <td>北京</td>\n",
       "      <td>汽车之家</td>\n",
       "      <td>4</td>\n",
       "      <td>本科</td>\n",
       "      <td>数据分析实习生</td>\n",
       "      <td>互联网</td>\n",
       "      <td>180</td>\n",
       "      <td>140</td>\n",
       "      <td>4</td>\n",
       "      <td>足够强大的平台！</td>\n",
       "    </tr>\n",
       "    <tr>\n",
       "      <th>222</th>\n",
       "      <td>北京</td>\n",
       "      <td>志诺维Genowis</td>\n",
       "      <td>4</td>\n",
       "      <td>本科</td>\n",
       "      <td>算法工程师（文本挖掘）</td>\n",
       "      <td>计算机/互联网,医药</td>\n",
       "      <td>300</td>\n",
       "      <td>150</td>\n",
       "      <td>12</td>\n",
       "      <td>最有竞争力的薪资和最前沿的技术给你无限的发展平台，上班不用打卡，咖啡下午茶尽情享用~~~</td>\n",
       "    </tr>\n",
       "  </tbody>\n",
       "</table>\n",
       "<p>223 rows × 10 columns</p>\n",
       "</div>"
      ],
      "text/plain": [
       "    city       cname  day degree           iname    industry  maxsal  minsal  \\\n",
       "0     武汉        武汉安天    4     本科         数据挖掘工程师         互联网     120      80   \n",
       "1     武汉        武汉安天    4     硕士         数据挖掘实习生         互联网     150     100   \n",
       "2     广州        网易游戏    4     本科    语料数据标注实习生-广州         互联网     200     100   \n",
       "3     北京      中科院软件所    4     硕士           安全工程师     计算机/互联网     200     120   \n",
       "4     深圳    IDataAPI    5     本科  自然语言处理（NLP）实习生        企业服务     200     100   \n",
       "..   ...         ...  ...    ...             ...         ...     ...     ...   \n",
       "218   北京        妙计旅行    5     本科         数据挖掘实习生        在线旅游     240     140   \n",
       "219   北京          百度    5     本科    百度数据挖掘工程师实习生         互联网     200     150   \n",
       "220   北京        Baca    4     本科         数据挖掘实习生         互联网     370     350   \n",
       "221   北京        汽车之家    4     本科         数据分析实习生         互联网     180     140   \n",
       "222   北京  志诺维Genowis    4     本科     算法工程师（文本挖掘）  计算机/互联网,医药     300     150   \n",
       "\n",
       "     month                                    attraction  \n",
       "0        3                               弹性工作 周末双休 咖啡下午茶  \n",
       "1        3                                         弹性工作制  \n",
       "2        8                            网络游戏 知名公司 导师制 免费三餐  \n",
       "3        6                       舒适办公环境 领先技术水平 优秀团队 科研单位  \n",
       "4        6                你将获得持续不断的挑战与能力提升，并与志同道合的伙伴并肩作战  \n",
       "..     ...                                           ...  \n",
       "218      6                                 大牛带队，成长迅速，包三餐  \n",
       "219      6                                  福利待遇好  有转正机会  \n",
       "220      3                           出海项目,美金投资,团队大牛,学习成长  \n",
       "221      4                                      足够强大的平台！  \n",
       "222     12  最有竞争力的薪资和最前沿的技术给你无限的发展平台，上班不用打卡，咖啡下午茶尽情享用~~~  \n",
       "\n",
       "[223 rows x 10 columns]"
      ]
     },
     "execution_count": 21,
     "metadata": {},
     "output_type": "execute_result"
    }
   ],
   "source": [
    "#读取job_detailed.csv中有效字段的数据\n",
    "job_detailed_data=pd.read_csv('job_detailed.csv')[['city','cname','day','degree','iname','industry','maxsal','minsal','month','attraction']]\n",
    "job_detailed_data"
   ]
  },
  {
   "cell_type": "code",
   "execution_count": 22,
   "metadata": {},
   "outputs": [
    {
     "name": "stdout",
     "output_type": "stream",
     "text": [
      "原始行数: 223\n"
     ]
    }
   ],
   "source": [
    "print(\"原始行数:\",len(job_detailed_data))"
   ]
  },
  {
   "cell_type": "code",
   "execution_count": 23,
   "metadata": {},
   "outputs": [
    {
     "name": "stdout",
     "output_type": "stream",
     "text": [
      "现在数据行数: 200\n"
     ]
    },
    {
     "data": {
      "text/html": [
       "<div>\n",
       "<style scoped>\n",
       "    .dataframe tbody tr th:only-of-type {\n",
       "        vertical-align: middle;\n",
       "    }\n",
       "\n",
       "    .dataframe tbody tr th {\n",
       "        vertical-align: top;\n",
       "    }\n",
       "\n",
       "    .dataframe thead th {\n",
       "        text-align: right;\n",
       "    }\n",
       "</style>\n",
       "<table border=\"1\" class=\"dataframe\">\n",
       "  <thead>\n",
       "    <tr style=\"text-align: right;\">\n",
       "      <th></th>\n",
       "      <th>city</th>\n",
       "      <th>cname</th>\n",
       "      <th>day</th>\n",
       "      <th>degree</th>\n",
       "      <th>iname</th>\n",
       "      <th>industry</th>\n",
       "      <th>maxsal</th>\n",
       "      <th>minsal</th>\n",
       "      <th>month</th>\n",
       "      <th>attraction</th>\n",
       "    </tr>\n",
       "  </thead>\n",
       "  <tbody>\n",
       "    <tr>\n",
       "      <th>0</th>\n",
       "      <td>武汉</td>\n",
       "      <td>武汉安天</td>\n",
       "      <td>4</td>\n",
       "      <td>本科</td>\n",
       "      <td>数据挖掘工程师</td>\n",
       "      <td>互联网</td>\n",
       "      <td>120</td>\n",
       "      <td>80</td>\n",
       "      <td>3</td>\n",
       "      <td>弹性工作 周末双休 咖啡下午茶</td>\n",
       "    </tr>\n",
       "    <tr>\n",
       "      <th>1</th>\n",
       "      <td>武汉</td>\n",
       "      <td>武汉安天</td>\n",
       "      <td>4</td>\n",
       "      <td>硕士</td>\n",
       "      <td>数据挖掘实习生</td>\n",
       "      <td>互联网</td>\n",
       "      <td>150</td>\n",
       "      <td>100</td>\n",
       "      <td>3</td>\n",
       "      <td>弹性工作制</td>\n",
       "    </tr>\n",
       "    <tr>\n",
       "      <th>2</th>\n",
       "      <td>广州</td>\n",
       "      <td>网易游戏</td>\n",
       "      <td>4</td>\n",
       "      <td>本科</td>\n",
       "      <td>语料数据标注实习生-广州</td>\n",
       "      <td>互联网</td>\n",
       "      <td>200</td>\n",
       "      <td>100</td>\n",
       "      <td>8</td>\n",
       "      <td>网络游戏 知名公司 导师制 免费三餐</td>\n",
       "    </tr>\n",
       "    <tr>\n",
       "      <th>3</th>\n",
       "      <td>北京</td>\n",
       "      <td>中科院软件所</td>\n",
       "      <td>4</td>\n",
       "      <td>硕士</td>\n",
       "      <td>安全工程师</td>\n",
       "      <td>计算机/互联网</td>\n",
       "      <td>200</td>\n",
       "      <td>120</td>\n",
       "      <td>6</td>\n",
       "      <td>舒适办公环境 领先技术水平 优秀团队 科研单位</td>\n",
       "    </tr>\n",
       "    <tr>\n",
       "      <th>4</th>\n",
       "      <td>深圳</td>\n",
       "      <td>IDataAPI</td>\n",
       "      <td>5</td>\n",
       "      <td>本科</td>\n",
       "      <td>自然语言处理（NLP）实习生</td>\n",
       "      <td>企业服务</td>\n",
       "      <td>200</td>\n",
       "      <td>100</td>\n",
       "      <td>6</td>\n",
       "      <td>你将获得持续不断的挑战与能力提升，并与志同道合的伙伴并肩作战</td>\n",
       "    </tr>\n",
       "    <tr>\n",
       "      <th>...</th>\n",
       "      <td>...</td>\n",
       "      <td>...</td>\n",
       "      <td>...</td>\n",
       "      <td>...</td>\n",
       "      <td>...</td>\n",
       "      <td>...</td>\n",
       "      <td>...</td>\n",
       "      <td>...</td>\n",
       "      <td>...</td>\n",
       "      <td>...</td>\n",
       "    </tr>\n",
       "    <tr>\n",
       "      <th>195</th>\n",
       "      <td>北京</td>\n",
       "      <td>妙计旅行</td>\n",
       "      <td>5</td>\n",
       "      <td>本科</td>\n",
       "      <td>数据挖掘实习生</td>\n",
       "      <td>在线旅游</td>\n",
       "      <td>240</td>\n",
       "      <td>140</td>\n",
       "      <td>6</td>\n",
       "      <td>大牛带队，成长迅速，包三餐</td>\n",
       "    </tr>\n",
       "    <tr>\n",
       "      <th>196</th>\n",
       "      <td>北京</td>\n",
       "      <td>百度</td>\n",
       "      <td>5</td>\n",
       "      <td>本科</td>\n",
       "      <td>百度数据挖掘工程师实习生</td>\n",
       "      <td>互联网</td>\n",
       "      <td>200</td>\n",
       "      <td>150</td>\n",
       "      <td>6</td>\n",
       "      <td>福利待遇好  有转正机会</td>\n",
       "    </tr>\n",
       "    <tr>\n",
       "      <th>197</th>\n",
       "      <td>北京</td>\n",
       "      <td>Baca</td>\n",
       "      <td>4</td>\n",
       "      <td>本科</td>\n",
       "      <td>数据挖掘实习生</td>\n",
       "      <td>互联网</td>\n",
       "      <td>370</td>\n",
       "      <td>350</td>\n",
       "      <td>3</td>\n",
       "      <td>出海项目,美金投资,团队大牛,学习成长</td>\n",
       "    </tr>\n",
       "    <tr>\n",
       "      <th>198</th>\n",
       "      <td>北京</td>\n",
       "      <td>汽车之家</td>\n",
       "      <td>4</td>\n",
       "      <td>本科</td>\n",
       "      <td>数据分析实习生</td>\n",
       "      <td>互联网</td>\n",
       "      <td>180</td>\n",
       "      <td>140</td>\n",
       "      <td>4</td>\n",
       "      <td>足够强大的平台！</td>\n",
       "    </tr>\n",
       "    <tr>\n",
       "      <th>199</th>\n",
       "      <td>北京</td>\n",
       "      <td>志诺维Genowis</td>\n",
       "      <td>4</td>\n",
       "      <td>本科</td>\n",
       "      <td>算法工程师（文本挖掘）</td>\n",
       "      <td>计算机/互联网,医药</td>\n",
       "      <td>300</td>\n",
       "      <td>150</td>\n",
       "      <td>12</td>\n",
       "      <td>最有竞争力的薪资和最前沿的技术给你无限的发展平台，上班不用打卡，咖啡下午茶尽情享用~~~</td>\n",
       "    </tr>\n",
       "  </tbody>\n",
       "</table>\n",
       "<p>200 rows × 10 columns</p>\n",
       "</div>"
      ],
      "text/plain": [
       "    city       cname  day degree           iname    industry  maxsal  minsal  \\\n",
       "0     武汉        武汉安天    4     本科         数据挖掘工程师         互联网     120      80   \n",
       "1     武汉        武汉安天    4     硕士         数据挖掘实习生         互联网     150     100   \n",
       "2     广州        网易游戏    4     本科    语料数据标注实习生-广州         互联网     200     100   \n",
       "3     北京      中科院软件所    4     硕士           安全工程师     计算机/互联网     200     120   \n",
       "4     深圳    IDataAPI    5     本科  自然语言处理（NLP）实习生        企业服务     200     100   \n",
       "..   ...         ...  ...    ...             ...         ...     ...     ...   \n",
       "195   北京        妙计旅行    5     本科         数据挖掘实习生        在线旅游     240     140   \n",
       "196   北京          百度    5     本科    百度数据挖掘工程师实习生         互联网     200     150   \n",
       "197   北京        Baca    4     本科         数据挖掘实习生         互联网     370     350   \n",
       "198   北京        汽车之家    4     本科         数据分析实习生         互联网     180     140   \n",
       "199   北京  志诺维Genowis    4     本科     算法工程师（文本挖掘）  计算机/互联网,医药     300     150   \n",
       "\n",
       "     month                                    attraction  \n",
       "0        3                               弹性工作 周末双休 咖啡下午茶  \n",
       "1        3                                         弹性工作制  \n",
       "2        8                            网络游戏 知名公司 导师制 免费三餐  \n",
       "3        6                       舒适办公环境 领先技术水平 优秀团队 科研单位  \n",
       "4        6                你将获得持续不断的挑战与能力提升，并与志同道合的伙伴并肩作战  \n",
       "..     ...                                           ...  \n",
       "195      6                                 大牛带队，成长迅速，包三餐  \n",
       "196      6                                  福利待遇好  有转正机会  \n",
       "197      3                           出海项目,美金投资,团队大牛,学习成长  \n",
       "198      4                                      足够强大的平台！  \n",
       "199     12  最有竞争力的薪资和最前沿的技术给你无限的发展平台，上班不用打卡，咖啡下午茶尽情享用~~~  \n",
       "\n",
       "[200 rows x 10 columns]"
      ]
     },
     "execution_count": 23,
     "metadata": {},
     "output_type": "execute_result"
    }
   ],
   "source": [
    "#去重，并生成新索引删除原索引\n",
    "job_detailed_data=job_detailed_data.drop_duplicates().reset_index().drop('index',axis=1)\n",
    "print('现在数据行数:',len(job_detailed_data))\n",
    "job_detailed_data"
   ]
  },
  {
   "cell_type": "code",
   "execution_count": 26,
   "metadata": {},
   "outputs": [
    {
     "name": "stdout",
     "output_type": "stream",
     "text": [
      "现在数据行数: 200\n"
     ]
    }
   ],
   "source": [
    "#提取需要的字段并去空\n",
    "job_detailed_data=job_detailed_data[['city','cname','day','degree','iname','industry','maxsal','minsal','month','attraction']]\n",
    "job_detailed_data.head()\n",
    "print('现在数据行数:',len(job_detailed_data))"
   ]
  },
  {
   "cell_type": "markdown",
   "metadata": {},
   "source": [
    "<h2>4.数据分析</h2>"
   ]
  },
  {
   "cell_type": "markdown",
   "metadata": {},
   "source": [
    "<h3>4.1学历与岗位数量</h3>"
   ]
  },
  {
   "cell_type": "markdown",
   "metadata": {},
   "source": [
    "degree=job_detailed_data['degree'].value_counts()\n",
    "degree"
   ]
  },
  {
   "cell_type": "code",
   "execution_count": 60,
   "metadata": {},
   "outputs": [
    {
     "data": {
      "image/png": "[encoded data removed]",
      "text/plain": [
       "<Figure size 800x800 with 1 Axes>"
      ]
     },
     "metadata": {
      "needs_background": "light"
     },
     "output_type": "display_data"
    }
   ],
   "source": [
    "plt.figure(figsize=(10, 10), dpi=80)\n",
    "x = degree[:15].index\n",
    "y = degree[:15].values\n",
    "p = plt.bar(x, y, label=\"num\")\n",
    "for x,y in zip(x,y):\n",
    "    plt.text(x,y, '%.0f'%y, ha='center',va='bottom')\n",
    "plt.xlabel('学历')\n",
    "plt.ylabel('岗位数量')\n",
    "plt.title('学历与岗位数量')\n",
    "plt.legend(loc=\"upper right\")\n",
    "plt.show()"
   ]
  },
  {
   "cell_type": "code",
   "execution_count": 61,
   "metadata": {},
   "outputs": [
    {
     "data": {
      "image/png": "[encoded data removed]",
      "text/plain": [
       "<Figure size 800x800 with 1 Axes>"
      ]
     },
     "metadata": {
      "needs_background": "light"
     },
     "output_type": "display_data"
    }
   ],
   "source": [
    "plt.figure(figsize=(10, 10), dpi=80)\n",
    "x = degree[:15].index\n",
    "y = degree[:15].values\n",
    "sns.barplot(x=x, y=y, data=job_detailed_data,capsize=.05)\n",
    "plt.xlabel('学历')\n",
    "plt.ylabel('岗位数量')\n",
    "plt.title('学历与岗位数量')\n",
    "plt.show()"
   ]
  },
  {
   "cell_type": "markdown",
   "metadata": {},
   "source": [
    "<h3>结论</h3>\n",
    "<br>\n",
    "绝大多数岗位对实习生的学历要求是本科及以上，对学历要求是硕士的岗位数量和对学历不做要求差不多，极少数岗位对学历的最低要求是大专。"
   ]
  },
  {
   "cell_type": "markdown",
   "metadata": {},
   "source": [
    "<h3>4.2城市与岗位数量</h3>"
   ]
  },
  {
   "cell_type": "code",
   "execution_count": 63,
   "metadata": {},
   "outputs": [
    {
     "data": {
      "text/plain": [
       "北京                   96\n",
       "上海                   42\n",
       "广州                   14\n",
       "深圳                    9\n",
       "武汉                    7\n",
       "杭州                    4\n",
       "合肥                    4\n",
       "成都                    3\n",
       "南京                    3\n",
       "宁波                    2\n",
       "青岛                    2\n",
       "全国                    2\n",
       "西安                    2\n",
       "重庆                    1\n",
       "北京,武汉                 1\n",
       "北京,上海                 1\n",
       "厦门                    1\n",
       "广州,福州,厦门,深圳,上海,苏州     1\n",
       ",上海                   1\n",
       "苏州                    1\n",
       "天津                    1\n",
       "福州                    1\n",
       "珠海                    1\n",
       "Name: city, dtype: int64"
      ]
     },
     "execution_count": 63,
     "metadata": {},
     "output_type": "execute_result"
    }
   ],
   "source": [
    "city=job_detailed_data['city'].value_counts()\n",
    "city"
   ]
  },
  {
   "cell_type": "code",
   "execution_count": 64,
   "metadata": {},
   "outputs": [
    {
     "data": {
      "image/png": "[encoded data removed]",
      "text/plain": [
       "<Figure size 800x800 with 1 Axes>"
      ]
     },
     "metadata": {
      "needs_background": "light"
     },
     "output_type": "display_data"
    }
   ],
   "source": [
    "plt.figure(figsize=(10, 10), dpi=80)\n",
    "x = city[:15].index\n",
    "y = city[:15].values\n",
    "p = plt.bar(x, y, label=\"num\")\n",
    "for x,y in zip(x,y):\n",
    "    plt.text(x,y, '%.0f'%y, ha='center',va='bottom')\n",
    "plt.xlabel('城市')\n",
    "plt.ylabel('岗位数量')\n",
    "plt.title('城市与岗位数量')\n",
    "plt.legend(loc=\"upper right\")\n",
    "plt.show()"
   ]
  },
  {
   "cell_type": "code",
   "execution_count": 65,
   "metadata": {},
   "outputs": [
    {
     "data": {
      "image/png": "[encoded data removed]",
      "text/plain": [
       "<Figure size 800x800 with 1 Axes>"
      ]
     },
     "metadata": {
      "needs_background": "light"
     },
     "output_type": "display_data"
    }
   ],
   "source": [
    "plt.figure(figsize=(10, 10), dpi=80)\n",
    "x = city[:15].index\n",
    "y = city[:15].values\n",
    "sns.barplot(x=x, y=y, data=job_detailed_data,capsize=.05)\n",
    "plt.xlabel('城市')\n",
    "plt.ylabel('岗位数量')\n",
    "plt.title('城市与岗位数量')\n",
    "plt.show()"
   ]
  },
  {
   "cell_type": "code",
   "execution_count": null,
   "metadata": {},
   "outputs": [],
   "source": []
  }
 ],
 "metadata": {
  "kernelspec": {
   "display_name": "Python 3",
   "language": "python",
   "name": "python3"
  },
  "language_info": {
   "codemirror_mode": {
    "name": "ipython",
    "version": 3
   },
   "file_extension": ".py",
   "mimetype": "text/x-python",
   "name": "python",
   "nbconvert_exporter": "python",
   "pygments_lexer": "ipython3",
   "version": "3.9.0"
  }
 },
 "nbformat": 4,
 "nbformat_minor": 4
}
